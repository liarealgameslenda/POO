{
  "nbformat": 4,
  "nbformat_minor": 0,
  "metadata": {
    "colab": {
      "provenance": [],
      "authorship_tag": "ABX9TyNSoa5NOEp2xE25SjrjOeVc",
      "include_colab_link": true
    },
    "kernelspec": {
      "name": "python3",
      "display_name": "Python 3"
    },
    "language_info": {
      "name": "python"
    }
  },
  "cells": [
    {
      "cell_type": "markdown",
      "metadata": {
        "id": "view-in-github",
        "colab_type": "text"
      },
      "source": [
        "<a href=\"https://colab.research.google.com/github/liarealgameslenda/POO/blob/main/POO_30ago24.ipynb\" target=\"_parent\"><img src=\"https://colab.research.google.com/assets/colab-badge.svg\" alt=\"Open In Colab\"/></a>"
      ]
    },
    {
      "cell_type": "markdown",
      "source": [
        "#POO_02 - Introdução à Programação Orientada a Objetos\n",
        "\n",
        "---\n",
        "\n",
        "\n",
        "Criar um código de um programa que\n",
        "solicite ao usuário digitar medida em polegadas e converter o valor dado\n",
        "para milímetros. (1”=25,4mm).\n",
        "\n",
        "\n",
        "---\n",
        "\n"
      ],
      "metadata": {
        "id": "y2pWNl5npKMv"
      }
    },
    {
      "cell_type": "code",
      "source": [
        "P = float(input(\"Digite um valor em polegadas: \"))\n",
        "MM = P*25.4\n",
        "print(f\"A conversão para milímetros é {MM:.2f} mm\")"
      ],
      "metadata": {
        "colab": {
          "base_uri": "https://localhost:8080/"
        },
        "id": "P0CbZ2WmpQg8",
        "outputId": "241aa015-1b09-4dbc-f8f6-cf41e4b56bc3"
      },
      "execution_count": null,
      "outputs": [
        {
          "output_type": "stream",
          "name": "stdout",
          "text": [
            "Digite um valor em polegadas: 30\n",
            "A conversão para milímetros é 762.00 mm\n"
          ]
        }
      ]
    },
    {
      "cell_type": "markdown",
      "source": [
        "\n",
        "\n",
        "---\n",
        "\n",
        "\n",
        "Criar um código de um programa que\n",
        "solicite ao usuário digitar uma medida em milímetros, elaborar um\n",
        "programa para converter o valor dado para polegadas.\n",
        "\n",
        "\n",
        "---\n",
        "\n"
      ],
      "metadata": {
        "id": "V3HmtE6yrpO3"
      }
    },
    {
      "cell_type": "code",
      "source": [
        "MM = float(input(\"Digite um valor em milímetros: \"))\n",
        "P = MM/25.4\n",
        "print(f\"A conversão para polegadas é {P:.2f} p\")"
      ],
      "metadata": {
        "colab": {
          "base_uri": "https://localhost:8080/"
        },
        "id": "fh-KbYdcvVa7",
        "outputId": "99144863-c483-4421-e75c-ea96262126e1"
      },
      "execution_count": null,
      "outputs": [
        {
          "output_type": "stream",
          "name": "stdout",
          "text": [
            "Digite um valor em milímetros: 67\n",
            "A conversão para polegadas é 2.64\n"
          ]
        }
      ]
    },
    {
      "cell_type": "markdown",
      "source": [
        "\n",
        "\n",
        "---\n",
        "\n",
        "\n",
        "Criar um código de um programa que\n",
        "solicite ao usuário digitar sua idade e, em seguida, faça a verificação do\n",
        "valor; assim, se idade maior ou igual a 16 anos e menor que 70 anos, o programa deve retornar a mensagem “Pode votar”. No caso contrário, ou seja, se menor que 16 anos ou maior que 70\n",
        "anos “Não pode votar!”.\n",
        "\n",
        "\n",
        "---\n",
        "\n"
      ],
      "metadata": {
        "id": "Abmv-Tj3wqxv"
      }
    },
    {
      "cell_type": "code",
      "source": [
        "ID = int(input(\"Digite sua idade: \"))\n",
        "if ID >= 16 and < 70:\n",
        "    print(\"Pode votar\")\n",
        "else:\n",
        "    print(\"Não pode votar\")"
      ],
      "metadata": {
        "id": "z5JznOGKxdjb"
      },
      "execution_count": null,
      "outputs": []
    },
    {
      "cell_type": "markdown",
      "source": [
        "Criar um código para um programa que receba o raio (r) de uma esfera, e\n",
        "em seguida calcule e exibir o seu volume (v) desta esfera."
      ],
      "metadata": {
        "id": "9H_s9Ss2ry_c"
      }
    },
    {
      "cell_type": "code",
      "source": [
        "import math\n",
        "R = float(input(\"Digite o raio da esfera: \"))\n",
        "V = (4/3) * math.pi * R**3\n",
        "print(f\"O volume da esfera é {V:.2f} \")"
      ],
      "metadata": {
        "colab": {
          "base_uri": "https://localhost:8080/"
        },
        "id": "DoBPt7SYr1Wc",
        "outputId": "cec5a49d-8cf3-436d-ce92-8747c9526fdc"
      },
      "execution_count": null,
      "outputs": [
        {
          "output_type": "stream",
          "name": "stdout",
          "text": [
            "Digite o raio da esfera: 6\n",
            "O volume da esfera é 904.78 \n"
          ]
        }
      ]
    },
    {
      "cell_type": "markdown",
      "source": [
        "\n",
        "\n",
        "---\n",
        "\n",
        "\n",
        "Criar um código para um programa que receba um ângulo (g) em graus, e\n",
        "converta este valor para radianos (r).\n",
        "\n",
        "---\n",
        "\n"
      ],
      "metadata": {
        "id": "MFNua_lttROl"
      }
    },
    {
      "cell_type": "code",
      "source": [
        "import math\n",
        "AG = float(input(\"Digite um ângulo em graus: \"))\n",
        "R = AG * math.pi / 180\n",
        "print(f\"O ângulo em radianos é {R:.2f} \")"
      ],
      "metadata": {
        "colab": {
          "base_uri": "https://localhost:8080/"
        },
        "id": "XgwjEHOmtT_k",
        "outputId": "04b5d193-067c-432e-f5c6-7c70bcaa4b2d"
      },
      "execution_count": null,
      "outputs": [
        {
          "output_type": "stream",
          "name": "stdout",
          "text": [
            "Digite um ângulo em graus: 90\n",
            "O ângulo em radianos é 1.57 \n"
          ]
        }
      ]
    },
    {
      "cell_type": "markdown",
      "source": [
        "\n",
        "\n",
        "---\n",
        "\n",
        "\n",
        "Criar um código para um programa que receba o valor de um ângulo em\n",
        "radianos, e converta este valor para graus.\n",
        "\n",
        "\n",
        "---\n",
        "\n"
      ],
      "metadata": {
        "id": "zuvcSqwVtk8s"
      }
    },
    {
      "cell_type": "code",
      "source": [
        "import math\n",
        "R = float(input(\"Digite um ângulo em radianos: \"))\n",
        "AG = R * 180 / math.pi\n",
        "print(f\"O ângulo em graus é {AG:.2f} \")"
      ],
      "metadata": {
        "colab": {
          "base_uri": "https://localhost:8080/"
        },
        "id": "wWChFbVntvlv",
        "outputId": "3ab13c45-6a83-4e19-e51f-3fde42a2aa26"
      },
      "execution_count": null,
      "outputs": [
        {
          "output_type": "stream",
          "name": "stdout",
          "text": [
            "Digite um ângulo em radianos: 1.57\n",
            "O ângulo em graus é 90.00 \n"
          ]
        }
      ]
    },
    {
      "cell_type": "markdown",
      "source": [
        "\n",
        "\n",
        "---\n",
        "\n",
        "\n",
        "Criar um código para um programa\n",
        "que receba ângulo em radianos, e converta este valor para grados.\n",
        "Lembrar que 400 grados equivalem a 27.\n",
        "\n",
        "\n",
        "---\n",
        "\n"
      ],
      "metadata": {
        "id": "YdFHhIEZtUyh"
      }
    },
    {
      "cell_type": "code",
      "source": [
        "import math\n",
        "R = float(input(\"Digite um ângulo em radianos: \"))\n",
        "G = R * 400 / (2 * math.pi)\n",
        "print(f\"O ângulo em graus é {G:.2f} \""
      ],
      "metadata": {
        "id": "X8N9TYLftZRC"
      },
      "execution_count": null,
      "outputs": []
    },
    {
      "cell_type": "markdown",
      "source": [
        "\n",
        "\n",
        "---\n",
        "\n",
        "\n",
        "Criar um código de um programa para ler um número digitado pelo usuário no seu teclado e verificar e informar se o número digitado é par ou ímpar.\n",
        "\n",
        "---\n",
        "\n"
      ],
      "metadata": {
        "id": "VGw8eX-Flzj8"
      }
    },
    {
      "cell_type": "code",
      "source": [
        "N = int(input(\"Digite um número inteiro: \"))\n",
        "if N % 2 == 0:\n",
        "  print (f\"O número {N} é par\")\n",
        "else:\n",
        "  print (f\"O número {N} é ímpar\")"
      ],
      "metadata": {
        "id": "cl3IofIImBPh",
        "outputId": "683f8132-89f0-459d-f78e-73c186f22369",
        "colab": {
          "base_uri": "https://localhost:8080/"
        }
      },
      "execution_count": null,
      "outputs": [
        {
          "output_type": "stream",
          "name": "stdout",
          "text": [
            "Digite um número inteiro: 6\n",
            "O número 6 é par\n"
          ]
        }
      ]
    },
    {
      "cell_type": "markdown",
      "source": [
        "\n",
        "\n",
        "---\n",
        "\n",
        "Criar um código de um programa para ler um\n",
        "número digitado pelo usuário no seu teclado e verificar e calcular raiz\n",
        "quadrada para valores Maiores ou iguais a zero; caso exibir a mensagem\n",
        "“Não existe raiz real para este número!”.\n",
        "\n",
        "---\n",
        "\n"
      ],
      "metadata": {
        "id": "Hjnfd4vhm3Na"
      }
    },
    {
      "cell_type": "code",
      "source": [
        "import math\n",
        "N = float(input(\"Digite um número: \"))\n",
        "if N >= 0:\n",
        "  raiz_quadrada = math.sqrt(N)\n",
        "  print (f\"A raiz quadrada de {N:} é {raiz_quadrada:.2f}.\")\n",
        "else:\n",
        "  print(\"Não existe raiz real para este número.\")"
      ],
      "metadata": {
        "id": "EpyDP4Osm-Mo",
        "outputId": "8817b0bb-f0b6-4214-be74-14c45f1d95df",
        "colab": {
          "base_uri": "https://localhost:8080/"
        }
      },
      "execution_count": null,
      "outputs": [
        {
          "output_type": "stream",
          "name": "stdout",
          "text": [
            "Digite um número: 16\n",
            "A raiz quadrada de 16.0 é 4.00.\n"
          ]
        }
      ]
    },
    {
      "cell_type": "markdown",
      "source": [
        "\n",
        "\n",
        "---\n",
        "\n",
        "\n",
        "Criar um código de um programa para exibir o\n",
        "tamanho da camiseta manga curta, “PP”,\n",
        "“P”, “M”, “G”, “GG” ou “XGG”, ao solicitar\n",
        "ao usuário que ele insira os valores de comprimento e Largura.\n",
        "\n",
        "---\n",
        "\n"
      ],
      "metadata": {
        "id": "Y-hcvu8wooJr"
      }
    },
    {
      "cell_type": "code",
      "source": [
        "C = float(input(\"digite o comprimento da camiseta\"))\n",
        "L = float(input(\"digite a largura da camiseta\"))\n",
        "if C <= 60 and L <= 45:\n",
        "tamanho = \"pp\"\n",
        "elif C <= 65 and L <= 48:\n",
        "tamanho = \"p\"\n",
        "elif C <= 70 and L <= 51:\n",
        "tamanho = \"m\"\n",
        "elif C <= 75 and L <= 54:\n",
        "tamanho = \"g\"\n",
        "elif C <= 80 and L <= 67:\n",
        "tamanho = \"gg\"\n",
        "else:\n",
        "tamanho = \"xgg\"\n"
      ],
      "metadata": {
        "id": "1YpWJ5ipsCEv"
      },
      "execution_count": null,
      "outputs": []
    },
    {
      "cell_type": "markdown",
      "source": [
        "\n",
        "\n",
        "---\n",
        "\n",
        "\n",
        "Elaborar um programa para tabelar todos os valores dos ângulos\n",
        "de 0º a 360º com intervalo de 5º e seus respectivos senos.\n",
        "\n",
        "\n",
        "---\n",
        "\n"
      ],
      "metadata": {
        "id": "sfkkcvTpzalV"
      }
    },
    {
      "cell_type": "code",
      "source": [
        "import math\n",
        "\n",
        "print(f\"{'Angulo (graus)':<15}{'Seno':<10}\")\n",
        "for angulo in range(0, 361, 5):\n",
        "    math.radians(angulo)\n",
        "    seno = math.sin(radianos)\n",
        "    print(f\"{angulo:<10}{seno:<10.4f}\")"
      ],
      "metadata": {
        "id": "yQTRD2Jk34iL",
        "outputId": "cca459bc-8347-41c3-f75a-7a58189ca1b0",
        "colab": {
          "base_uri": "https://localhost:8080/"
        }
      },
      "execution_count": null,
      "outputs": [
        {
          "output_type": "stream",
          "name": "stdout",
          "text": [
            "Angulo (graus) Seno      \n",
            "0         -0.0000   \n",
            "5         -0.0000   \n",
            "10        -0.0000   \n",
            "15        -0.0000   \n",
            "20        -0.0000   \n",
            "25        -0.0000   \n",
            "30        -0.0000   \n",
            "35        -0.0000   \n",
            "40        -0.0000   \n",
            "45        -0.0000   \n",
            "50        -0.0000   \n",
            "55        -0.0000   \n",
            "60        -0.0000   \n",
            "65        -0.0000   \n",
            "70        -0.0000   \n",
            "75        -0.0000   \n",
            "80        -0.0000   \n",
            "85        -0.0000   \n",
            "90        -0.0000   \n",
            "95        -0.0000   \n",
            "100       -0.0000   \n",
            "105       -0.0000   \n",
            "110       -0.0000   \n",
            "115       -0.0000   \n",
            "120       -0.0000   \n",
            "125       -0.0000   \n",
            "130       -0.0000   \n",
            "135       -0.0000   \n",
            "140       -0.0000   \n",
            "145       -0.0000   \n",
            "150       -0.0000   \n",
            "155       -0.0000   \n",
            "160       -0.0000   \n",
            "165       -0.0000   \n",
            "170       -0.0000   \n",
            "175       -0.0000   \n",
            "180       -0.0000   \n",
            "185       -0.0000   \n",
            "190       -0.0000   \n",
            "195       -0.0000   \n",
            "200       -0.0000   \n",
            "205       -0.0000   \n",
            "210       -0.0000   \n",
            "215       -0.0000   \n",
            "220       -0.0000   \n",
            "225       -0.0000   \n",
            "230       -0.0000   \n",
            "235       -0.0000   \n",
            "240       -0.0000   \n",
            "245       -0.0000   \n",
            "250       -0.0000   \n",
            "255       -0.0000   \n",
            "260       -0.0000   \n",
            "265       -0.0000   \n",
            "270       -0.0000   \n",
            "275       -0.0000   \n",
            "280       -0.0000   \n",
            "285       -0.0000   \n",
            "290       -0.0000   \n",
            "295       -0.0000   \n",
            "300       -0.0000   \n",
            "305       -0.0000   \n",
            "310       -0.0000   \n",
            "315       -0.0000   \n",
            "320       -0.0000   \n",
            "325       -0.0000   \n",
            "330       -0.0000   \n",
            "335       -0.0000   \n",
            "340       -0.0000   \n",
            "345       -0.0000   \n",
            "350       -0.0000   \n",
            "355       -0.0000   \n",
            "360       -0.0000   \n"
          ]
        }
      ]
    },
    {
      "cell_type": "markdown",
      "source": [
        "\n",
        "\n",
        "---\n",
        "\n",
        "\n",
        "Elaborar um programa para calcular e exibir a média de n alunos. Considerar que cada aluno possui duas notas\n",
        "(N1 e N2) de mesmo peso; e que a quantidade de alunos (n), assim como as notas\n",
        "de cada aluno devem ser fornecidas pelo usuário.\n",
        "\n",
        "\n",
        "---\n",
        "\n"
      ],
      "metadata": {
        "id": "6vZ_bNO76gni"
      }
    },
    {
      "cell_type": "code",
      "source": [
        "A = int(input(\"Digite a quantidade de alunos: \"))\n",
        "soma_das_medias = 0\n",
        "\n",
        "for i in range (1, A + 1):\n",
        "  print(f\"Aluno {i}\")\n",
        "  N1 = float(input(\"Digite a N1: \"))\n",
        "  N2 = float(input(\"Digite a N2: \"))\n",
        "  media = (N1 + N2) / 2\n",
        "  print(f\"A média do aluno {i} é {media:.2f}\")"
      ],
      "metadata": {
        "id": "daoqpS5A6vbD",
        "outputId": "57e4dcf9-1496-4e8a-f21d-11d31680e89d",
        "colab": {
          "base_uri": "https://localhost:8080/"
        }
      },
      "execution_count": 5,
      "outputs": [
        {
          "output_type": "stream",
          "name": "stdout",
          "text": [
            "Digite a quantidade de alunos: 3\n",
            "Aluno 1\n",
            "Digite a N1: 8\n",
            "Digite a N2: 9\n",
            "A média do aluno 1 é 8.50\n",
            "Aluno 2\n",
            "Digite a N1: 4\n",
            "Digite a N2: 9\n",
            "A média do aluno 2 é 6.50\n",
            "Aluno 3\n",
            "Digite a N1: 10\n",
            "Digite a N2: 2\n",
            "A média do aluno 3 é 6.00\n"
          ]
        }
      ]
    }
  ]
}