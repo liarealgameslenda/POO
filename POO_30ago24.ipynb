{
  "nbformat": 4,
  "nbformat_minor": 0,
  "metadata": {
    "colab": {
      "provenance": [],
      "authorship_tag": "ABX9TyMDpWdjQm5A3dwsEINtJPMF",
      "include_colab_link": true
    },
    "kernelspec": {
      "name": "python3",
      "display_name": "Python 3"
    },
    "language_info": {
      "name": "python"
    }
  },
  "cells": [
    {
      "cell_type": "markdown",
      "metadata": {
        "id": "view-in-github",
        "colab_type": "text"
      },
      "source": [
        "<a href=\"https://colab.research.google.com/github/liarealgameslenda/POO_30ago24/blob/main/POO_30ago24.ipynb\" target=\"_parent\"><img src=\"https://colab.research.google.com/assets/colab-badge.svg\" alt=\"Open In Colab\"/></a>"
      ]
    },
    {
      "cell_type": "markdown",
      "source": [
        "Criar um código de um programa que\n",
        "solicite ao usuário digitar medida em polegadas e converter o valor dado\n",
        "para milímetros. (1”=25,4mm)."
      ],
      "metadata": {
        "id": "y2pWNl5npKMv"
      }
    },
    {
      "cell_type": "code",
      "source": [
        "P = float(input(\"Digite um valor em polegadas: \"))\n",
        "MM = P*25.4\n",
        "print(f\"A conversão para milímetros é {MM:.2f} mm\")"
      ],
      "metadata": {
        "colab": {
          "base_uri": "https://localhost:8080/"
        },
        "id": "P0CbZ2WmpQg8",
        "outputId": "241aa015-1b09-4dbc-f8f6-cf41e4b56bc3"
      },
      "execution_count": null,
      "outputs": [
        {
          "output_type": "stream",
          "name": "stdout",
          "text": [
            "Digite um valor em polegadas: 30\n",
            "A conversão para milímetros é 762.00 mm\n"
          ]
        }
      ]
    },
    {
      "cell_type": "markdown",
      "source": [
        "Criar um código de um programa que\n",
        "solicite ao usuário digitar uma medida em milímetros, elaborar um\n",
        "programa para converter o valor dado para polegadas."
      ],
      "metadata": {
        "id": "V3HmtE6yrpO3"
      }
    },
    {
      "cell_type": "code",
      "source": [
        "MM = float(input(\"Digite um valor em milímetros: \"))\n",
        "P = MM/25.4\n",
        "print(f\"A conversão para polegadas é {P:.2f} p\")"
      ],
      "metadata": {
        "colab": {
          "base_uri": "https://localhost:8080/"
        },
        "id": "fh-KbYdcvVa7",
        "outputId": "99144863-c483-4421-e75c-ea96262126e1"
      },
      "execution_count": null,
      "outputs": [
        {
          "output_type": "stream",
          "name": "stdout",
          "text": [
            "Digite um valor em milímetros: 67\n",
            "A conversão para polegadas é 2.64\n"
          ]
        }
      ]
    },
    {
      "cell_type": "markdown",
      "source": [
        "Criar um código de um programa que\n",
        "solicite ao usuário digitar sua idade e, em seguida, faça a verificação do\n",
        "valor; assim, se idade maior ou igual a 16 anos e menor que 70 anos, o programa deve retornar a mensagem “Pode votar”. No caso contrário, ou seja, se menor que 16 anos ou maior que 70\n",
        "anos “Não pode votar!”."
      ],
      "metadata": {
        "id": "Abmv-Tj3wqxv"
      }
    },
    {
      "cell_type": "code",
      "source": [
        "ID = int(input(\"Digite sua idade: \"))\n",
        "if ID >= 16 and < 70:\n",
        "    print(\"Pode votar\")\n",
        "else:\n",
        "    print(\"Não pode votar\")"
      ],
      "metadata": {
        "id": "z5JznOGKxdjb"
      },
      "execution_count": null,
      "outputs": []
    },
    {
      "cell_type": "markdown",
      "source": [
        "Criar um código para um programa que receba o raio (r) de uma esfera, e\n",
        "em seguida calcule e exibir o seu volume (v) desta esfera."
      ],
      "metadata": {
        "id": "9H_s9Ss2ry_c"
      }
    },
    {
      "cell_type": "code",
      "source": [
        "import math\n",
        "R = float(input(\"Digite o raio da esfera: \"))\n",
        "V = (4/3) * math.pi * R**3\n",
        "print(f\"O volume da esfera é {V:.2f} \")"
      ],
      "metadata": {
        "colab": {
          "base_uri": "https://localhost:8080/"
        },
        "id": "DoBPt7SYr1Wc",
        "outputId": "cec5a49d-8cf3-436d-ce92-8747c9526fdc"
      },
      "execution_count": 2,
      "outputs": [
        {
          "output_type": "stream",
          "name": "stdout",
          "text": [
            "Digite o raio da esfera: 6\n",
            "O volume da esfera é 904.78 \n"
          ]
        }
      ]
    },
    {
      "cell_type": "markdown",
      "source": [
        "Criar um código para um programa que receba um ângulo (g) em graus, e\n",
        "converta este valor para radianos (r)."
      ],
      "metadata": {
        "id": "MFNua_lttROl"
      }
    },
    {
      "cell_type": "code",
      "source": [
        "import math\n",
        "AG = float(input(\"Digite um ângulo em graus: \"))\n",
        "R = AG * math.pi / 180\n",
        "print(f\"O ângulo em radianos é {R:.2f} \")"
      ],
      "metadata": {
        "colab": {
          "base_uri": "https://localhost:8080/"
        },
        "id": "XgwjEHOmtT_k",
        "outputId": "04b5d193-067c-432e-f5c6-7c70bcaa4b2d"
      },
      "execution_count": null,
      "outputs": [
        {
          "output_type": "stream",
          "name": "stdout",
          "text": [
            "Digite um ângulo em graus: 90\n",
            "O ângulo em radianos é 1.57 \n"
          ]
        }
      ]
    },
    {
      "cell_type": "markdown",
      "source": [
        "Criar um código para um programa que receba o valor de um ângulo em\n",
        "radianos, e converta este valor para graus."
      ],
      "metadata": {
        "id": "zuvcSqwVtk8s"
      }
    },
    {
      "cell_type": "code",
      "source": [
        "import math\n",
        "R = float(input(\"Digite um ângulo em radianos: \"))\n",
        "AG = R * 180 / math.pi\n",
        "print(f\"O ângulo em graus é {AG:.2f} \")"
      ],
      "metadata": {
        "colab": {
          "base_uri": "https://localhost:8080/"
        },
        "id": "wWChFbVntvlv",
        "outputId": "3ab13c45-6a83-4e19-e51f-3fde42a2aa26"
      },
      "execution_count": null,
      "outputs": [
        {
          "output_type": "stream",
          "name": "stdout",
          "text": [
            "Digite um ângulo em radianos: 1.57\n",
            "O ângulo em graus é 90.00 \n"
          ]
        }
      ]
    }
  ]
}