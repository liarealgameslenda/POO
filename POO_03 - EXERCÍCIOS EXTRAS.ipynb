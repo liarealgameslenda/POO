{
  "nbformat": 4,
  "nbformat_minor": 0,
  "metadata": {
    "colab": {
      "provenance": [],
      "authorship_tag": "ABX9TyP41Fl5gueH51zdxcuiscUD",
      "include_colab_link": true
    },
    "kernelspec": {
      "name": "python3",
      "display_name": "Python 3"
    },
    "language_info": {
      "name": "python"
    }
  },
  "cells": [
    {
      "cell_type": "markdown",
      "metadata": {
        "id": "view-in-github",
        "colab_type": "text"
      },
      "source": [
        "<a href=\"https://colab.research.google.com/github/liarealgameslenda/POO/blob/main/POO_03%20-%20EXERC%C3%8DCIOS%20EXTRAS.ipynb\" target=\"_parent\"><img src=\"https://colab.research.google.com/assets/colab-badge.svg\" alt=\"Open In Colab\"/></a>"
      ]
    },
    {
      "cell_type": "markdown",
      "source": [
        "#POO_03 - EXERCÍCIOS EXTRAS\n",
        "\n",
        "---\n",
        "\n",
        "\n",
        "1) Elaborar um programa em python que solicite ao\n",
        "usuário um valor inteiro e em seguida informe ao usuário se o valor é múltiplo de 3 ou não.\n",
        "\n",
        "\n",
        "---\n"
      ],
      "metadata": {
        "id": "C7igam5Lk0LT"
      }
    },
    {
      "cell_type": "code",
      "source": [
        "X = 0; R = 0\n",
        "X = int(input(\"Digite um valor inteiro: \"))\n",
        "R = X % 3\n",
        "if R == 0:\n",
        "  print(f\"O valor {X} é multiplo de 3\")\n",
        "else:\n",
        "  print(f\"O valor {X} não é multiplo de 3\")"
      ],
      "metadata": {
        "colab": {
          "base_uri": "https://localhost:8080/"
        },
        "id": "U5jbdodTk31B",
        "outputId": "52d463ae-142b-429a-f3a2-bc85d3fe8030"
      },
      "execution_count": 3,
      "outputs": [
        {
          "output_type": "stream",
          "name": "stdout",
          "text": [
            "digite um valor inteiro9\n",
            "o valor 9 é multiplo de 3\n"
          ]
        }
      ]
    },
    {
      "cell_type": "markdown",
      "source": [
        "\n",
        "\n",
        "---\n",
        "\n",
        "\n",
        "2) Dadas as notas a e b de um aluno, com pesos\n",
        "respectivamente 2 e 3; pede-se elaborar um programa em Python para calcular e exibir\n",
        "a média ponderada do aluno, verificar e informar, junto ao valor da sua média, se foi\n",
        "aprovado ou não (OBS: Considere aprovado se obtiver média igual ou superior a 5).\n",
        "\n",
        "\n",
        "---\n",
        "\n"
      ],
      "metadata": {
        "id": "V-MRCBAHo5EE"
      }
    },
    {
      "cell_type": "code",
      "source": [
        "A = 0; B = 0; M = 0\n",
        "A = float(input(\"Digite a nota A: \"))\n",
        "B = float(input(\"Digite a nota B: \"))\n",
        "M = (A * 2 + B * 3) / 5\n",
        "if M >= 5:\n",
        "  print(f\"O aluno foi aprovado com a média {M}\")\n",
        "else:\n",
        "  print(f\"O aluno foi reprovado com a média {M}\")\n"
      ],
      "metadata": {
        "colab": {
          "base_uri": "https://localhost:8080/"
        },
        "id": "mhlOBVJIpAF7",
        "outputId": "f84fe494-66ba-40f4-a32d-b62133220aa0"
      },
      "execution_count": 7,
      "outputs": [
        {
          "output_type": "stream",
          "name": "stdout",
          "text": [
            "Digite a nota A: 4\n",
            "Digite a nota B: 5\n",
            "O aluno foi reprovado com a média 4.6\n"
          ]
        }
      ]
    },
    {
      "cell_type": "markdown",
      "source": [
        "\n",
        "\n",
        "---\n",
        "\n",
        "\n",
        "3)Dado o algoritmo a seguir, elabore o código python do programa em questão:\n",
        "\n",
        "---\n",
        "\n",
        "\n",
        "Início\n",
        "\n",
        "Leia os três valores: a, b e c.\n",
        "\n",
        "Compare os valores:\n",
        "\n",
        "Se a é menor ou igual a b e a é menor ou igual a c, então\n",
        "a é o menor valor.\n",
        "\n",
        "Caso contrário, se b é menor ou igual a a e b é menor ou igual a c, então\n",
        "\n",
        "b é o menor valor.\n",
        "\n",
        "Caso contrário,\n",
        "\n",
        "c é o menor valor.\n",
        "\n",
        "Exiba o menor valor.\n",
        "\n",
        "Fim"
      ],
      "metadata": {
        "id": "k1URR-mst_rd"
      }
    },
    {
      "cell_type": "code",
      "source": [],
      "metadata": {
        "id": "ylCmNX6luXFV"
      },
      "execution_count": null,
      "outputs": []
    }
  ]
}